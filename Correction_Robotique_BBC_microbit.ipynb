{
 "cells": [
  {
   "cell_type": "markdown",
   "metadata": {},
   "source": [
    "<hr style=\"border-color: tomato\">\n",
    "<h3 class='fa fa-code' style=\"color: tomato\"> A faire vous-même - défi n°0 :</h3>\n",
    "\n",
    "\n",
    "#### Prendre en main l'environnement de développement et programmer un \"Hello World\" :\n",
    "\n",
    "Le premier programme que réalise tout apprenti informaticien est le fameux [Hello World!](https://fr.wikipedia.org/wiki/Hello_world)... Celà permet avec un programme minimal de prendre en main un langage et surtout de s'assurer du bon fonctionnement de l'environnement de développement choisi [IDE](https://fr.wikipedia.org/wiki/Environnement_de_d%C3%A9veloppement).\n",
    "\n",
    "#### \"Hello World\" spécial robotique :\n",
    "\n",
    "**Raccorder** une LED sur la sortie P0 et **programmer** un allumage alternatif à la fréquence de 1Hz.\n",
    "\n",
    "\n",
    "<hr style=\"border-color: tomato\">\n"
   ]
  },
  {
   "cell_type": "code",
   "execution_count": null,
   "metadata": {},
   "outputs": [],
   "source": [
    "# Add your Python code here. E.g.\n",
    "from microbit import *\n",
    "\n",
    "\n",
    "while True:\n",
    "    display.scroll('Hello, World!')\n",
    "    display.show(Image.HEART)\n",
    "    sleep(2000)"
   ]
  },
  {
   "cell_type": "code",
   "execution_count": null,
   "metadata": {},
   "outputs": [],
   "source": [
    "from microbit import *\n",
    "\n",
    "while True:\n",
    "    pin0.write_digital(True)\n",
    "    sleep(500)\n",
    "    pin0.write_digital(False)\n",
    "    sleep(500)"
   ]
  },
  {
   "cell_type": "code",
   "execution_count": null,
   "metadata": {},
   "outputs": [],
   "source": [
    "from microbit import *\n",
    "\n",
    "while True:\n",
    "    pin0.write_digital(1)\n",
    "    sleep(500)\n",
    "    pin0.write_digital(0)\n",
    "    sleep(500)"
   ]
  },
  {
   "cell_type": "markdown",
   "metadata": {},
   "source": [
    "<hr style=\"border-color: tomato\">\n",
    "<h3 class='fa fa-code' style=\"color: tomato\"> A faire vous-même - défi n°1 :</h3>\n",
    "\n",
    "<p><strong>Raccorder</strong> une LED sur la sortie P0 et <strong>programmer</strong> un allumage progressif en intensité sur 5 secondes à partir de l'initialisation de la carte ( = une rampe de démarrage). Puis la LED s'éteint instantannément après 6 secondes...</p>\n",
    "\n",
    "<hr style=\"border-color: tomato\">"
   ]
  },
  {
   "cell_type": "code",
   "execution_count": null,
   "metadata": {},
   "outputs": [],
   "source": [
    "from microbit import *\n",
    "\n",
    "for lapse in range(1024) :\n",
    "    pin0.write_analog(lapse)\n",
    "    sleep(5000/1024)\n",
    "sleep(1000)\n",
    "pin0.write_analog(0)"
   ]
  },
  {
   "cell_type": "markdown",
   "metadata": {},
   "source": [
    "<hr style=\"border-color: tomato\">\n",
    "<h3 class='fa fa-code' style=\"color: tomato\"> A faire vous-même - défi n°2 :</h3>\n",
    "\n",
    "<p><strong>Raccorder</strong> une LED sur la sortie P0 et <strong>programmer</strong> l'intensité de son allumage par paliers progressifs de sorte que quatres impulsions successives sur l'entrée A conduisent à l'éclairage maximal. Tandis qu'une impulsion sur le bouton B provoque l'extinction totale de la LED.</p>\n",
    "\n",
    "<hr style=\"border-color: tomato\">"
   ]
  },
  {
   "cell_type": "code",
   "execution_count": null,
   "metadata": {},
   "outputs": [],
   "source": [
    "# Dire pourquoi cette version ne convient pas...\n",
    "from microbit import *\n",
    "n_impulsions=0\n",
    "while True :\n",
    "    if button_b.is_pressed() :\n",
    "        pin0.write_analog(0)\n",
    "        n_impulsions=0\n",
    "    if button_a.is_pressed() :\n",
    "        n_impulsions = n_impulsions + 1        \n",
    "    print(n_impulsions)\n",
    "    pin0.write_analog(1023/4*n_impulsions)\n",
    "    sleep(50)"
   ]
  },
  {
   "cell_type": "code",
   "execution_count": null,
   "metadata": {},
   "outputs": [],
   "source": [
    "from microbit import *\n",
    "n_impulsions=0\n",
    "while True :\n",
    "    if button_b.was_pressed() :\n",
    "        pin0.write_analog(0)\n",
    "        n_impulsions=0\n",
    "    if button_a.was_pressed() and n_impulsions < 4 :\n",
    "        n_impulsions = n_impulsions + 1        \n",
    "    #print(n_impulsions)\n",
    "    pin0.write_analog(1023/4*n_impulsions)\n",
    "    #sleep(10)"
   ]
  },
  {
   "cell_type": "code",
   "execution_count": null,
   "metadata": {},
   "outputs": [],
   "source": [
    "from microbit import *\n",
    "n_impulsions=0\n",
    "while True :\n",
    "    if n_impulsions < 4 :\n",
    "        n_impulsions = n_impulsions + button_a.get_presses()\n",
    "        \n",
    "    if button_b.was_pressed() :\n",
    "        pin0.write_analog(0)\n",
    "        n_impulsions=0\n",
    "    \n",
    "    #print(n_impulsions)\n",
    "    pin0.write_analog(1023/4*n_impulsions)    \n"
   ]
  },
  {
   "cell_type": "markdown",
   "metadata": {},
   "source": [
    "<hr style=\"border-color: tomato\">\n",
    "<h3 class='fa fa-code' style=\"color: tomato\"> A faire vous-même - défi n°3 :</h3>\n",
    "\n",
    "<p><strong>Raccorder</strong>  une LED sur la sortie P0 et un potentiomètre sur l'entrée P1 et <strong>programmer</strong> le niveau d'intensité lumineuse de la LED selon le réglage de la position du potentiomètre...</p>\n",
    "\n",
    "<hr style=\"border-color: tomato\">\n"
   ]
  },
  {
   "cell_type": "code",
   "execution_count": null,
   "metadata": {},
   "outputs": [],
   "source": [
    "from microbit import *\n",
    "\n",
    "while True :\n",
    "    pin0.write_analog(pin1.read_analog())"
   ]
  },
  {
   "cell_type": "code",
   "execution_count": null,
   "metadata": {},
   "outputs": [],
   "source": [
    "from microbit import *\n",
    "\n",
    "while True :\n",
    "    valeur = pin1.read_analog()\n",
    "    pin0.write_analog(valeur)\n",
    "    print((0,valeur,1023))\n",
    "    sleep(20) "
   ]
  },
  {
   "cell_type": "markdown",
   "metadata": {},
   "source": [
    "<hr style=\"border-color: tomato\">\n",
    "<h3 class='fa fa-code' style=\"color: tomato\"> A faire vous-même - défi n°4 :</h3>\n",
    "\n",
    "<p><strong>Raccorder</strong>  une LED sur la sortie P0 d'une carte et un potentiomètre sur l'entrée P1 d'une autre carte et <strong>programmer</strong> le niveau d'intensité lumineuse de la LED selon le réglage de la position du potentiomètre...</p>\n",
    "\n",
    "<hr style=\"border-color: tomato\">"
   ]
  },
  {
   "cell_type": "code",
   "execution_count": null,
   "metadata": {},
   "outputs": [],
   "source": [
    "# Emmetteur\n",
    "from microbit import *\n",
    "import radio\n",
    "\n",
    "radio.on()\n",
    "radio.config(channel=19) # Choisir un canal entre 0 et 100\n",
    "radio.config(power=7)    # Fixer un niveau de puissance d'émission de 0 à 7\n",
    "\n",
    "while True:\n",
    "        valeur_envoyee = pin1.read_analog()\n",
    "        radio.send(str(valeur_envoyee))\n",
    "                \n",
    "        #display.scroll(valeur_envoyee)\n",
    "        sleep(50)"
   ]
  },
  {
   "cell_type": "code",
   "execution_count": null,
   "metadata": {},
   "outputs": [],
   "source": [
    "# Recepteur\n",
    "from microbit import *\n",
    "import radio\n",
    "\n",
    "radio.on()\n",
    "radio.config(channel=19) # Choisir un canal entre 0 et 100\n",
    "radio.config(power=7)    # Fixer un niveau de puissance d'émission de 0 à 7\n",
    "\n",
    "while True:\n",
    "        valeur_recue = radio.receive()\n",
    "        if valeur_recue is not None:\n",
    "            #display.scroll(valeur_recue)\n",
    "            pin0.write_analog(int(valeur_recue))\n",
    "            print((int(valeur_recue),))\n",
    "        sleep(50)"
   ]
  },
  {
   "cell_type": "code",
   "execution_count": null,
   "metadata": {},
   "outputs": [],
   "source": []
  }
 ],
 "metadata": {
  "kernelspec": {
   "display_name": "Python 3",
   "language": "python",
   "name": "python3"
  },
  "language_info": {
   "codemirror_mode": {
    "name": "ipython",
    "version": 3
   },
   "file_extension": ".py",
   "mimetype": "text/x-python",
   "name": "python",
   "nbconvert_exporter": "python",
   "pygments_lexer": "ipython3",
   "version": "3.8.5"
  }
 },
 "nbformat": 4,
 "nbformat_minor": 4
}
